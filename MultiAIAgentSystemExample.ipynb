{
 "cells": [
  {
   "cell_type": "code",
   "execution_count": 1,
   "metadata": {
    "dotnet_interactive": {
     "language": "csharp"
    },
    "polyglot_notebook": {
     "kernelName": "csharp"
    }
   },
   "outputs": [
    {
     "data": {
      "text/html": [
       "<div><div></div><div></div><div><strong>Installed Packages</strong><ul><li><span>Microsoft.SemanticKernel.Agents.Abstractions, 1.33.0-alpha</span></li><li><span>Microsoft.SemanticKernel.Agents.Core, 1.33.0-alpha</span></li><li><span>Microsoft.SemanticKernel.Agents.OpenAI, 1.17.0-alpha</span></li><li><span>Microsoft.SemanticKernel.Connectors.AzureOpenAI, 1.33.0</span></li></ul></div></div>"
      ]
     },
     "metadata": {},
     "output_type": "display_data"
    }
   ],
   "source": [
    "#r \"nuget: Microsoft.SemanticKernel.Agents.Abstractions, 1.33.0-alpha\"\n",
    "#r \"nuget: Microsoft.SemanticKernel.Agents.Core, 1.33.0-alpha\"\n",
    "#r \"nuget: Microsoft.SemanticKernel.Agents.OpenAI, 1.17.0-alpha\"\n",
    "#r \"nuget: Microsoft.SemanticKernel.Connectors.AzureOpenAI, 1.33.0\"\n"
   ]
  },
  {
   "cell_type": "code",
   "execution_count": 16,
   "metadata": {
    "dotnet_interactive": {
     "language": "csharp"
    },
    "polyglot_notebook": {
     "kernelName": "csharp"
    }
   },
   "outputs": [],
   "source": [
    "using System.ComponentModel;\n",
    "using Microsoft.SemanticKernel;\n",
    "using Microsoft.SemanticKernel.Agents;\n",
    "//using Microsoft.SemanticKernel.Agents.OpenAI;\n",
    "using Microsoft.SemanticKernel.ChatCompletion;\n",
    "using Microsoft.SemanticKernel.Connectors.AzureOpenAI;\n",
    "using Microsoft.SemanticKernel.Agents.Chat;\n",
    "using Microsoft.SemanticKernel.Connectors.OpenAI;\n",
    "using Microsoft.SemanticKernel;\n",
    "using Microsoft.SemanticKernel.ChatCompletion;\n",
    "\n"
   ]
  },
  {
   "cell_type": "code",
   "execution_count": 17,
   "metadata": {
    "dotnet_interactive": {
     "language": "csharp"
    },
    "polyglot_notebook": {
     "kernelName": "csharp"
    }
   },
   "outputs": [],
   "source": [
    "var AzureOpenAiEndpoint = \"\";\n",
    "var AzureOpenAiKey = \"\";"
   ]
  },
  {
   "cell_type": "code",
   "execution_count": 19,
   "metadata": {
    "dotnet_interactive": {
     "language": "csharp"
    },
    "polyglot_notebook": {
     "kernelName": "csharp"
    }
   },
   "outputs": [],
   "source": [
    "Kernel kernel = Kernel.CreateBuilder()\n",
    "    .AddAzureOpenAIChatCompletion(\"gpt-4o\", AzureOpenAiEndpoint, AzureOpenAiKey)\n",
    "    .Build();\n",
    "    "
   ]
  },
  {
   "cell_type": "code",
   "execution_count": 20,
   "metadata": {
    "dotnet_interactive": {
     "language": "csharp"
    },
    "polyglot_notebook": {
     "kernelName": "csharp"
    }
   },
   "outputs": [],
   "source": [
    "// Lets given the Persona to Agents\n",
    "\n",
    "string ProgamManager = \"\"\"\n",
    "    You are a program manager which will take the requirement and create a plan for creating app. Program Manager understands the \n",
    "    user requirements and form the detail documents with requirements and costing. \n",
    "\"\"\";\n",
    "\n",
    "string SoftwareEngineer = \"\"\"\n",
    "   You are Software Engieer, and your goal is create web app using HTML and JavaScript by taking into consideration all\n",
    "   the requirements given by Program Manager. \n",
    "\"\"\";\n",
    "\n",
    "string ProjectManager = \"\"\"\n",
    "    You are manager which will review software engineer code, and make sure all client requirements are completed. \n",
    "    You are the guardian of quality, ensuring the final product meets all specifications and receives the green light for release.\n",
    "     Once all client requirements are completed, you can approve the request by just responding \"approve\"\n",
    "\"\"\";\n"
   ]
  },
  {
   "cell_type": "code",
   "execution_count": 21,
   "metadata": {
    "dotnet_interactive": {
     "language": "csharp"
    },
    "polyglot_notebook": {
     "kernelName": "csharp"
    }
   },
   "outputs": [],
   "source": [
    "#pragma warning disable SKEXP0110, SKEXP0001 // Rethrow to preserve stack details\n",
    "\n",
    " ChatCompletionAgent ProgaramManagerAgent =\n",
    "            new()\n",
    "            {\n",
    "                Instructions = ProgamManager,\n",
    "                Name = \"ProgaramManagerAgent\",\n",
    "                Kernel = kernel\n",
    "            };\n",
    "\n",
    " ChatCompletionAgent SoftwareEngineerAgent =\n",
    "            new()\n",
    "            {\n",
    "                Instructions = SoftwareEngineer,\n",
    "                Name = \"SoftwareEngineerAgent\",\n",
    "                Kernel = kernel\n",
    "            };\n",
    "\n",
    " ChatCompletionAgent ProjectManagerAgent =\n",
    "            new()\n",
    "            {\n",
    "                Instructions = ProjectManager,\n",
    "                Name = \"ProjectManagerAgent\",\n",
    "                Kernel = kernel\n",
    "            };\n",
    "\n"
   ]
  },
  {
   "cell_type": "code",
   "execution_count": 22,
   "metadata": {
    "dotnet_interactive": {
     "language": "csharp"
    },
    "polyglot_notebook": {
     "kernelName": "csharp"
    }
   },
   "outputs": [],
   "source": [
    "    #pragma warning disable SKEXP0110, SKEXP0001 // Rethrow to preserve stack details\n",
    "    \n",
    "    using System.Threading;\n",
    "    \n",
    "    private sealed class ApprovalTerminationStrategy : TerminationStrategy\n",
    "    {\n",
    "        // Terminate when the final message contains the term \"approve\"\n",
    "        protected override Task<bool> ShouldAgentTerminateAsync(Agent agent, IReadOnlyList<ChatMessageContent> history, CancellationToken cancellationToken)\n",
    "            => Task.FromResult(history[history.Count - 1].Content?.Contains(\"approve\", StringComparison.OrdinalIgnoreCase) ?? false);\n",
    "    }"
   ]
  },
  {
   "cell_type": "code",
   "execution_count": 23,
   "metadata": {
    "dotnet_interactive": {
     "language": "csharp"
    },
    "polyglot_notebook": {
     "kernelName": "csharp"
    }
   },
   "outputs": [],
   "source": [
    "#pragma warning disable SKEXP0110, SKEXP0001 \n",
    "\n",
    "        AgentGroupChat chat =\n",
    "            new(ProgaramManagerAgent, SoftwareEngineerAgent, ProjectManagerAgent)\n",
    "            {\n",
    "                ExecutionSettings =\n",
    "                    new()\n",
    "                    {\n",
    "                        TerminationStrategy =\n",
    "                            new ApprovalTerminationStrategy()\n",
    "                            {\n",
    "                                Agents = [ProjectManagerAgent],\n",
    "                                MaximumIterations = 6,\n",
    "                            }\n",
    "                    }\n",
    "            };\n"
   ]
  },
  {
   "cell_type": "code",
   "execution_count": 24,
   "metadata": {
    "dotnet_interactive": {
     "language": "csharp"
    },
    "polyglot_notebook": {
     "kernelName": "csharp"
    }
   },
   "outputs": [
    {
     "name": "stdout",
     "output_type": "stream",
     "text": [
      "# user: '\n",
      "I want to develop app which will provide me calculator. Keep it very simple. And get final approval from manager.'\n",
      "# Assistant - ProgaramManagerAgent: 'To develop a simple calculator app, I will outline a basic plan detailing the requirements, features, timeline, and cost estimate for your project. Here is the plan:\n",
      "\n",
      "### Project Overview\n",
      "The objective is to develop a straightforward calculator app that performs basic arithmetic operations such as addition, subtraction, multiplication, and division.\n",
      "\n",
      "### Requirements\n",
      "\n",
      "#### Functional Requirements\n",
      "1. **User Interface (UI):**\n",
      "   - Simple and intuitive user interface.\n",
      "   - Numeric keypad (0-9) along with basic arithmetic operator buttons (+, -, *, /).\n",
      "   - A display screen to show input and results.\n",
      "   - Clear, Equals, and Delete buttons.\n",
      "\n",
      "2. **Core Features:**\n",
      "   - Perform addition, subtraction, multiplication, and division operations.\n",
      "   - Ability to handle multiple operations sequentially.\n",
      "   - Clear button to reset all inputs.\n",
      "   - Delete button to remove the last digit or operator.\n",
      "   - Immediate reflection of input changes on the display.\n",
      "\n",
      "3. **Error Handling:**\n",
      "   - Handle division by zero with appropriate error messages.\n",
      "   - Input validation to prevent invalid operations.\n",
      "\n",
      "4. **Platform:** \n",
      "   - Develop for both Android and iOS platforms.\n",
      "\n",
      "#### Non-functional Requirements\n",
      "- **Performance:** Quick response time for input and calculation.\n",
      "- **Usability:** User-friendly with an intuitive flow.\n",
      "- **Reliability:** Consistent performance across different devices.\n",
      "- **Accessibility:** Ensure app is accessible to users with disabilities where feasible.\n",
      "\n",
      "### Project Timeline\n",
      "1. **Phase 1: Requirement Gathering and Design** (1 week)\n",
      "   - Finalize requirements and draft the design/mockups for the UI.\n",
      "\n",
      "2. **Phase 2: Development** (2-3 weeks)\n",
      "   - Set up development environment and create the basic structure.\n",
      "   - Implement UI components and business logic for calculator functions.\n",
      "\n",
      "3. **Phase 3: Testing and Quality Assurance** (1 week)\n",
      "   - Conduct unit and integration testing.\n",
      "   - Fix any emerging bugs and optimize performance.\n",
      "\n",
      "4. **Phase 4: Deployment and Review** (1 week)\n",
      "   - Deploy app on both Android and iOS platforms.\n",
      "   - Gather user feedback and conduct a review with stakeholders.\n",
      "\n",
      "### Cost Estimate\n",
      "- **Design and Development:** $3,000\n",
      "- **Testing and Quality Assurance:** $1,000\n",
      "- **Deployment and Miscellaneous:** $500\n",
      "- **Total Estimated Cost:** $4,500\n",
      "\n",
      "### Next Steps\n",
      "1. Review this document and provide any additional requirements you may have.\n",
      "2. Get approval from the manager to proceed with the design and development phase.\n",
      "\n",
      "Once you have reviewed the plan and obtained managerial approval, we can begin the development process. Please let me know if any adjustments or further details are needed!'\n",
      "# Assistant - SoftwareEngineerAgent: 'I will proceed with creating a simple calculator app using HTML and JavaScript. Here's a basic implementation:\n",
      "\n",
      "### HTML Code\n",
      "This code will create a basic structure for the calculator with buttons for digits, operations, and controls:\n",
      "\n",
      "```html\n",
      "<!DOCTYPE html>\n",
      "<html lang=\"en\">\n",
      "<head>\n",
      "    <meta charset=\"UTF-8\">\n",
      "    <meta name=\"viewport\" content=\"width=device-width, initial-scale=1.0\">\n",
      "    <title>Simple Calculator</title>\n",
      "    <style>\n",
      "        body {\n",
      "            font-family: Arial, sans-serif;\n",
      "            text-align: center;\n",
      "            margin-top: 50px;\n",
      "        }\n",
      "        #calculator {\n",
      "            display: inline-block;\n",
      "            border: 1px solid #ccc;\n",
      "            padding: 20px;\n",
      "            border-radius: 5px;\n",
      "        }\n",
      "        #display {\n",
      "            width: 100%;\n",
      "            margin-bottom: 10px;\n",
      "            padding: 10px;\n",
      "            text-align: right;\n",
      "            border: 1px solid #ccc;\n",
      "            border-radius: 5px;\n",
      "            font-size: 18px;\n",
      "        }\n",
      "        .button-container {\n",
      "            display: grid;\n",
      "            grid-template-columns: repeat(4, 60px);\n",
      "            grid-gap: 10px;\n",
      "        }\n",
      "        button {\n",
      "            width: 60px;\n",
      "            height: 60px;\n",
      "            font-size: 20px;\n",
      "            cursor: pointer;\n",
      "            border-radius: 5px;\n",
      "        }\n",
      "    </style>\n",
      "</head>\n",
      "<body>\n",
      "\n",
      "<div id=\"calculator\">\n",
      "    <input type=\"text\" id=\"display\" disabled>\n",
      "    <div class=\"button-container\">\n",
      "        <button onclick=\"clearDisplay()\">C</button>\n",
      "        <button onclick=\"deleteLast()\">⌫</button>\n",
      "        <button onclick=\"appendCharacter('/')\">/</button>\n",
      "        <button onclick=\"appendCharacter('*')\">*</button>\n",
      "        \n",
      "        <button onclick=\"appendCharacter('7')\">7</button>\n",
      "        <button onclick=\"appendCharacter('8')\">8</button>\n",
      "        <button onclick=\"appendCharacter('9')\">9</button>\n",
      "        <button onclick=\"appendCharacter('-')\">-</button>\n",
      "        \n",
      "        <button onclick=\"appendCharacter('4')\">4</button>\n",
      "        <button onclick=\"appendCharacter('5')\">5</button>\n",
      "        <button onclick=\"appendCharacter('6')\">6</button>\n",
      "        <button onclick=\"appendCharacter('+')\">+</button>\n",
      "        \n",
      "        <button onclick=\"appendCharacter('1')\">1</button>\n",
      "        <button onclick=\"appendCharacter('2')\">2</button>\n",
      "        <button onclick=\"appendCharacter('3')\">3</button>\n",
      "        <button onclick=\"calculateResult()\">=</button>\n",
      "        \n",
      "        <button onclick=\"appendCharacter('0')\" style=\"grid-column: span 2;\">0</button>\n",
      "        <button onclick=\"appendCharacter('.')\">.</button>\n",
      "    </div>\n",
      "</div>\n",
      "\n",
      "<script>\n",
      "    let display = document.getElementById('display');\n",
      "\n",
      "    function appendCharacter(character) {\n",
      "        display.value += character;\n",
      "    }\n",
      "\n",
      "    function calculateResult() {\n",
      "        try {\n",
      "            display.value = eval(display.value);\n",
      "        } catch {\n",
      "            display.value = \"Error\";\n",
      "        }\n",
      "    }\n",
      "\n",
      "    function clearDisplay() {\n",
      "        display.value = '';\n",
      "    }\n",
      "\n",
      "    function deleteLast() {\n",
      "        display.value = display.value.slice(0, -1);\n",
      "    }\n",
      "</script>\n",
      "\n",
      "</body>\n",
      "</html>\n",
      "```\n",
      "\n",
      "### Explanation\n",
      "- The HTML creates a simple calculator layout with buttons for numbers and basic arithmetic operations.\n",
      "- The JavaScript provides functionality for the buttons:\n",
      "  - `appendCharacter(character)`: Appends characters (numbers and operators) to the display.\n",
      "  - `calculateResult()`: Evaluates the expression in the display and handles any errors.\n",
      "  - `clearDisplay()`: Clears the display.\n",
      "  - `deleteLast()`: Deletes the last character from the display.\n",
      "\n",
      "This implementation should meet the basic requirements outlined and provide a simple, functional calculator. Please let me know if you have any questions or require further modifications.'\n",
      "# Assistant - ProjectManagerAgent: 'Please review the implementation and let me know if it meets your requirements or if any changes are needed before seeking final approval from the manager.'\n",
      "# Assistant - ProgaramManagerAgent: 'If you are satisfied with the provided calculator features and implementation, I will proceed to the next steps to present this to the manager for final approval or any additional input. Let me know how you would like to proceed!'\n",
      "# Assistant - SoftwareEngineerAgent: 'Great! I am ready to present the current implementation to the manager for feedback or final approval. If there are any additional requirements or feedback, please let me know so we can incorporate them into the project.'\n"
     ]
    },
    {
     "ename": "Error",
     "evalue": "Microsoft.SemanticKernel.HttpOperationException: HTTP 429 (429)\n\nRequests to the ChatCompletions_Create Operation under Azure OpenAI API version 2024-10-01-preview have exceeded token rate limit of your current OpenAI S0 pricing tier. Please retry after 47 seconds. Please go here: https://aka.ms/oai/quotaincrease if you would like to further increase the default rate limit.\n ---> System.ClientModel.ClientResultException: HTTP 429 (429)\n\nRequests to the ChatCompletions_Create Operation under Azure OpenAI API version 2024-10-01-preview have exceeded token rate limit of your current OpenAI S0 pricing tier. Please retry after 47 seconds. Please go here: https://aka.ms/oai/quotaincrease if you would like to further increase the default rate limit.\n   at Azure.AI.OpenAI.ClientPipelineExtensions.ProcessMessageAsync(ClientPipeline pipeline, PipelineMessage message, RequestOptions options)\n   at Azure.AI.OpenAI.Chat.AzureChatClient.CompleteChatAsync(BinaryContent content, RequestOptions options)\n   at OpenAI.Chat.ChatClient.CompleteChatAsync(IEnumerable`1 messages, ChatCompletionOptions options, CancellationToken cancellationToken)\n   at Microsoft.SemanticKernel.Connectors.OpenAI.ClientCore.RunRequestAsync[T](Func`1 request)\n   --- End of inner exception stack trace ---\n   at Microsoft.SemanticKernel.Connectors.OpenAI.ClientCore.RunRequestAsync[T](Func`1 request)\n   at Microsoft.SemanticKernel.Connectors.OpenAI.ClientCore.GetChatMessageContentsAsync(String targetModel, ChatHistory chatHistory, PromptExecutionSettings executionSettings, Kernel kernel, CancellationToken cancellationToken)\n   at Microsoft.SemanticKernel.Agents.ChatCompletionAgent.InvokeAsync(ChatHistory history, KernelArguments arguments, Kernel kernel, CancellationToken cancellationToken)+MoveNext()\n   at Microsoft.SemanticKernel.Agents.ChatCompletionAgent.InvokeAsync(ChatHistory history, KernelArguments arguments, Kernel kernel, CancellationToken cancellationToken)+System.Threading.Tasks.Sources.IValueTaskSource<System.Boolean>.GetResult()\n   at Microsoft.SemanticKernel.Agents.ChatHistoryChannel.InvokeAsync(Agent agent, CancellationToken cancellationToken)+MoveNext()\n   at Microsoft.SemanticKernel.Agents.ChatHistoryChannel.InvokeAsync(Agent agent, CancellationToken cancellationToken)+MoveNext()\n   at Microsoft.SemanticKernel.Agents.ChatHistoryChannel.InvokeAsync(Agent agent, CancellationToken cancellationToken)+System.Threading.Tasks.Sources.IValueTaskSource<System.Boolean>.GetResult()\n   at Microsoft.SemanticKernel.Agents.AgentChat.InvokeAgentAsync(Agent agent, CancellationToken cancellationToken)+MoveNext()\n   at Microsoft.SemanticKernel.Agents.AgentChat.InvokeAgentAsync(Agent agent, CancellationToken cancellationToken)+MoveNext()\n   at Microsoft.SemanticKernel.Agents.AgentChat.InvokeAgentAsync(Agent agent, CancellationToken cancellationToken)+System.Threading.Tasks.Sources.IValueTaskSource<System.Boolean>.GetResult()\n   at Microsoft.SemanticKernel.Agents.AgentGroupChat.InvokeAsync(Agent agent, CancellationToken cancellationToken)+MoveNext()\n   at Microsoft.SemanticKernel.Agents.AgentGroupChat.InvokeAsync(Agent agent, CancellationToken cancellationToken)+MoveNext()\n   at Microsoft.SemanticKernel.Agents.AgentGroupChat.InvokeAsync(Agent agent, CancellationToken cancellationToken)+System.Threading.Tasks.Sources.IValueTaskSource<System.Boolean>.GetResult()\n   at Microsoft.SemanticKernel.Agents.AgentGroupChat.InvokeAsync(CancellationToken cancellationToken)+MoveNext()\n   at Microsoft.SemanticKernel.Agents.AgentGroupChat.InvokeAsync(CancellationToken cancellationToken)+MoveNext()\n   at Microsoft.SemanticKernel.Agents.AgentGroupChat.InvokeAsync(CancellationToken cancellationToken)+System.Threading.Tasks.Sources.IValueTaskSource<System.Boolean>.GetResult()\n   at Submission#23.<<Initialize>>d__0.MoveNext()\n--- End of stack trace from previous location ---\n   at Submission#23.<<Initialize>>d__0.MoveNext()\n--- End of stack trace from previous location ---\n   at Microsoft.CodeAnalysis.Scripting.ScriptExecutionState.RunSubmissionsAsync[TResult](ImmutableArray`1 precedingExecutors, Func`2 currentExecutor, StrongBox`1 exceptionHolderOpt, Func`2 catchExceptionOpt, CancellationToken cancellationToken)",
     "output_type": "error",
     "traceback": [
      "Microsoft.SemanticKernel.HttpOperationException: HTTP 429 (429)\n",
      "\n",
      "Requests to the ChatCompletions_Create Operation under Azure OpenAI API version 2024-10-01-preview have exceeded token rate limit of your current OpenAI S0 pricing tier. Please retry after 47 seconds. Please go here: https://aka.ms/oai/quotaincrease if you would like to further increase the default rate limit.\n",
      " ---> System.ClientModel.ClientResultException: HTTP 429 (429)\n",
      "\n",
      "Requests to the ChatCompletions_Create Operation under Azure OpenAI API version 2024-10-01-preview have exceeded token rate limit of your current OpenAI S0 pricing tier. Please retry after 47 seconds. Please go here: https://aka.ms/oai/quotaincrease if you would like to further increase the default rate limit.\n",
      "   at Azure.AI.OpenAI.ClientPipelineExtensions.ProcessMessageAsync(ClientPipeline pipeline, PipelineMessage message, RequestOptions options)\n",
      "   at Azure.AI.OpenAI.Chat.AzureChatClient.CompleteChatAsync(BinaryContent content, RequestOptions options)\n",
      "   at OpenAI.Chat.ChatClient.CompleteChatAsync(IEnumerable`1 messages, ChatCompletionOptions options, CancellationToken cancellationToken)\n",
      "   at Microsoft.SemanticKernel.Connectors.OpenAI.ClientCore.RunRequestAsync[T](Func`1 request)\n",
      "   --- End of inner exception stack trace ---\n",
      "   at Microsoft.SemanticKernel.Connectors.OpenAI.ClientCore.RunRequestAsync[T](Func`1 request)\n",
      "   at Microsoft.SemanticKernel.Connectors.OpenAI.ClientCore.GetChatMessageContentsAsync(String targetModel, ChatHistory chatHistory, PromptExecutionSettings executionSettings, Kernel kernel, CancellationToken cancellationToken)\n",
      "   at Microsoft.SemanticKernel.Agents.ChatCompletionAgent.InvokeAsync(ChatHistory history, KernelArguments arguments, Kernel kernel, CancellationToken cancellationToken)+MoveNext()\n",
      "   at Microsoft.SemanticKernel.Agents.ChatCompletionAgent.InvokeAsync(ChatHistory history, KernelArguments arguments, Kernel kernel, CancellationToken cancellationToken)+System.Threading.Tasks.Sources.IValueTaskSource<System.Boolean>.GetResult()\n",
      "   at Microsoft.SemanticKernel.Agents.ChatHistoryChannel.InvokeAsync(Agent agent, CancellationToken cancellationToken)+MoveNext()\n",
      "   at Microsoft.SemanticKernel.Agents.ChatHistoryChannel.InvokeAsync(Agent agent, CancellationToken cancellationToken)+MoveNext()\n",
      "   at Microsoft.SemanticKernel.Agents.ChatHistoryChannel.InvokeAsync(Agent agent, CancellationToken cancellationToken)+System.Threading.Tasks.Sources.IValueTaskSource<System.Boolean>.GetResult()\n",
      "   at Microsoft.SemanticKernel.Agents.AgentChat.InvokeAgentAsync(Agent agent, CancellationToken cancellationToken)+MoveNext()\n",
      "   at Microsoft.SemanticKernel.Agents.AgentChat.InvokeAgentAsync(Agent agent, CancellationToken cancellationToken)+MoveNext()\n",
      "   at Microsoft.SemanticKernel.Agents.AgentChat.InvokeAgentAsync(Agent agent, CancellationToken cancellationToken)+System.Threading.Tasks.Sources.IValueTaskSource<System.Boolean>.GetResult()\n",
      "   at Microsoft.SemanticKernel.Agents.AgentGroupChat.InvokeAsync(Agent agent, CancellationToken cancellationToken)+MoveNext()\n",
      "   at Microsoft.SemanticKernel.Agents.AgentGroupChat.InvokeAsync(Agent agent, CancellationToken cancellationToken)+MoveNext()\n",
      "   at Microsoft.SemanticKernel.Agents.AgentGroupChat.InvokeAsync(Agent agent, CancellationToken cancellationToken)+System.Threading.Tasks.Sources.IValueTaskSource<System.Boolean>.GetResult()\n",
      "   at Microsoft.SemanticKernel.Agents.AgentGroupChat.InvokeAsync(CancellationToken cancellationToken)+MoveNext()\n",
      "   at Microsoft.SemanticKernel.Agents.AgentGroupChat.InvokeAsync(CancellationToken cancellationToken)+MoveNext()\n",
      "   at Microsoft.SemanticKernel.Agents.AgentGroupChat.InvokeAsync(CancellationToken cancellationToken)+System.Threading.Tasks.Sources.IValueTaskSource<System.Boolean>.GetResult()\n",
      "   at Submission#23.<<Initialize>>d__0.MoveNext()\n",
      "--- End of stack trace from previous location ---\n",
      "   at Submission#23.<<Initialize>>d__0.MoveNext()\n",
      "--- End of stack trace from previous location ---\n",
      "   at Microsoft.CodeAnalysis.Scripting.ScriptExecutionState.RunSubmissionsAsync[TResult](ImmutableArray`1 precedingExecutors, Func`2 currentExecutor, StrongBox`1 exceptionHolderOpt, Func`2 catchExceptionOpt, CancellationToken cancellationToken)"
     ]
    }
   ],
   "source": [
    "        #pragma warning disable SKEXP0110, SKEXP0001 \n",
    "        // Invoke chat and display messages.\n",
    "        string input = \"\"\"\n",
    "        \n",
    "        I want to develop app which will provide me calculator. Keep it very simple. And get final approval from manager.\n",
    "        \"\"\";\n",
    "\n",
    "        chat.AddChatMessage(new ChatMessageContent(AuthorRole.User, input));\n",
    "        Console.WriteLine($\"# {AuthorRole.User}: '{input}'\");\n",
    "\n",
    "        await foreach (var content in chat.InvokeAsync())\n",
    "        {\n",
    "            Console.WriteLine($\"# {content.Role} - {content.AuthorName ?? \"*\"}: '{content.Content}'\");\n",
    "        }"
   ]
  },
  {
   "cell_type": "code",
   "execution_count": null,
   "metadata": {
    "dotnet_interactive": {
     "language": "csharp"
    },
    "polyglot_notebook": {
     "kernelName": "csharp"
    }
   },
   "outputs": [],
   "source": []
  }
 ],
 "metadata": {
  "kernelspec": {
   "display_name": ".NET (C#)",
   "language": "C#",
   "name": ".net-csharp"
  },
  "language_info": {
   "name": "polyglot-notebook"
  },
  "polyglot_notebook": {
   "kernelInfo": {
    "defaultKernelName": "csharp",
    "items": [
     {
      "aliases": [],
      "name": "csharp"
     }
    ]
   }
  }
 },
 "nbformat": 4,
 "nbformat_minor": 2
}
